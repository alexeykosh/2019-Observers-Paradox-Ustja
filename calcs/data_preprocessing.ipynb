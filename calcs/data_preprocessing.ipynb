{
 "cells": [
  {
   "cell_type": "markdown",
   "metadata": {},
   "source": [
    "# TAKE 1"
   ]
  },
  {
   "cell_type": "code",
   "execution_count": 2,
   "metadata": {},
   "outputs": [],
   "source": [
    "import pandas as pd\n",
    "import re\n",
    "import numpy as np\n",
    "from collections import Counter"
   ]
  },
  {
   "cell_type": "code",
   "execution_count": 3,
   "metadata": {},
   "outputs": [],
   "source": [
    "regex = re.compile('(\\d+)-(\\d+).wav')\n",
    "\n",
    "def replace(lis):\n",
    "    new_lis = []\n",
    "    for i in range(len(lis)):\n",
    "        \n",
    "        try:\n",
    "\n",
    "            find = re.findall(regex, str(lis[i]))\n",
    "\n",
    "            pos  = np.mean([int(find[0][1]), int(find[0][0])])\n",
    "\n",
    "            new_lis.append(pos)\n",
    "        \n",
    "        except IndexError:\n",
    "            \n",
    "            new_lis.append(np.nan)\n",
    "        \n",
    "    return new_lis\n"
   ]
  },
  {
   "cell_type": "code",
   "execution_count": 96,
   "metadata": {},
   "outputs": [],
   "source": [
    "data_ei = pd.read_excel('excels/all_data_04.2019.xlsx', sheet_name='ei')\n",
    "data_sh = pd.read_excel('excels/all_data_04.2019.xlsx', sheet_name='sh')\n",
    "data_sht = pd.read_excel('excels/all_data_04.2019.xlsx', sheet_name='sht')\n",
    "data_sch = pd.read_excel('excels/all_data_04.2019.xlsx', sheet_name='sch-zch')\n",
    "data_one = pd.read_excel('excels/all_data_04.2019.xlsx', sheet_name='one')\n",
    "data_diss = pd.read_excel('excels/all_data_04.2019.xlsx', sheet_name='diss')\n",
    "data_sja1 = pd.read_excel('excels/all_data_04.2019.xlsx', sheet_name='sja1 (ae)')\n",
    "data_sja2 = pd.read_excel('excels/all_data_04.2019.xlsx', sheet_name='sja2 (CV)')\n",
    "data_ot = pd.read_excel('excels/all_data_04.2019.xlsx', sheet_name='ot')\n",
    "data_tu = pd.read_excel('excels/all_data_04.2019.xlsx', sheet_name='tu')\n",
    "data_tu_acc = pd.read_excel('excels/all_data_04.2019.xlsx', sheet_name='tu_acc')\n",
    "data_prep_pron = pd.read_excel('excels/all_data_04.2019.xlsx', sheet_name='prep pron')\n",
    "data_adj = pd.read_excel('excels/all_data_04.2019.xlsx', sheet_name='adj')\n",
    "data_ae = pd.read_excel('excels/all_data_04.2019.xlsx', sheet_name='ae')\n",
    "data_ei2 = pd.read_excel('excels/all_data_04.2019.xlsx', sheet_name='ei_2_pretonic')\n",
    "data_ei1_p = pd.read_excel('excels/all_data_04.2019.xlsx', sheet_name='ei_1_pretonic')\n",
    "data_ei1_pa = pd.read_excel('excels/all_data_04.2019.xlsx', sheet_name='ei_1_pretonic_a')\n",
    "data_3sg = pd.read_excel('excels/all_data_04.2019.xlsx', sheet_name='3SgS_vcontr')"
   ]
  },
  {
   "cell_type": "code",
   "execution_count": 97,
   "metadata": {},
   "outputs": [],
   "source": [
    "data_ei['var'] = 'ei'\n",
    "data_sh['var'] = 'sh'\n",
    "data_sht['var'] = 'sht'\n",
    "data_sch['var'] = 'sch-zch'\n",
    "data_one['var'] = 'one'\n",
    "data_diss['var'] = 'diss'\n",
    "data_sja1['var'] = 'sja1'\n",
    "data_sja2['var'] = 'sja2'\n",
    "data_ot['var'] = 'ot'\n",
    "data_tu['var'] = 'tu'\n",
    "data_tu_acc['var'] = 'tu_acc'\n",
    "data_prep_pron['var'] = 'prep_pron'\n",
    "data_adj['var'] = 'adj'\n",
    "data_ae['var'] = 'ae'\n",
    "data_ei2['var'] = 'ei_2_pretonic'\n",
    "data_ei1_p['var'] = 'ei_1_pretonic'\n",
    "data_ei1_pa['var'] = 'ei_1_pretonic_a'\n",
    "data_3sg['var'] = '3SgS_vcontr'"
   ]
  },
  {
   "cell_type": "code",
   "execution_count": 98,
   "metadata": {},
   "outputs": [],
   "source": [
    "full_df = pd.concat([data_one.reset_index(), data_ei.reset_index(), data_sh.reset_index(), data_sht.reset_index(), data_sch.reset_index(),\n",
    "                    data_one.reset_index(), data_diss.reset_index(), data_sja1.reset_index(), data_sja2.reset_index(), data_ot.reset_index(), \n",
    "                    data_tu.reset_index(), data_tu_acc.reset_index(), data_prep_pron.reset_index(), data_adj.reset_index(), data_ae.reset_index()], \n",
    "                    ignore_index=True, axis=0)\n",
    "\n"
   ]
  },
  {
   "cell_type": "code",
   "execution_count": 99,
   "metadata": {},
   "outputs": [
    {
     "data": {
      "text/plain": [
       "(26134, 10)"
      ]
     },
     "execution_count": 99,
     "metadata": {},
     "output_type": "execute_result"
    }
   ],
   "source": [
    "full_df.shape"
   ]
  },
  {
   "cell_type": "code",
   "execution_count": 100,
   "metadata": {},
   "outputs": [
    {
     "data": {
      "text/plain": [
       "Counter({0: 333, 'cons': 12359, 'inn': 12296, 'na': 18, nan: 338, 'ncl': 790})"
      ]
     },
     "execution_count": 100,
     "metadata": {},
     "output_type": "execute_result"
    }
   ],
   "source": [
    "from collections import Counter\n",
    "\n",
    "Counter(full_df['realization_class'])"
   ]
  },
  {
   "cell_type": "code",
   "execution_count": 101,
   "metadata": {},
   "outputs": [],
   "source": [
    "full_df['position'] = replace(full_df['link'].tolist())  "
   ]
  },
  {
   "cell_type": "code",
   "execution_count": 102,
   "metadata": {},
   "outputs": [],
   "source": [
    "import numpy as np\n",
    "\n",
    "def get_yob(list_of):\n",
    "    \n",
    "    new_list = []\n",
    "    \n",
    "    for element in list_of:\n",
    "    \n",
    "        regex = re.compile('(\\d+)')\n",
    "        find = re.findall(regex, element)\n",
    "        \n",
    "        try:\n",
    "            new_list.append(find[0])\n",
    "            \n",
    "        except IndexError:\n",
    "            \n",
    "            new_list.append(np.nan)\n",
    "            \n",
    "    return new_list"
   ]
  },
  {
   "cell_type": "code",
   "execution_count": 103,
   "metadata": {},
   "outputs": [],
   "source": [
    "y_o_b = get_yob(list(full_df['speaker']))"
   ]
  },
  {
   "cell_type": "code",
   "execution_count": 104,
   "metadata": {},
   "outputs": [],
   "source": [
    "full_df['year_of_birth'] = y_o_b"
   ]
  },
  {
   "cell_type": "code",
   "execution_count": 105,
   "metadata": {},
   "outputs": [],
   "source": [
    "meta = pd.read_excel('excels/metadata_basic.xlsx')"
   ]
  },
  {
   "cell_type": "code",
   "execution_count": 106,
   "metadata": {},
   "outputs": [
    {
     "data": {
      "text/html": [
       "<div>\n",
       "<style scoped>\n",
       "    .dataframe tbody tr th:only-of-type {\n",
       "        vertical-align: middle;\n",
       "    }\n",
       "\n",
       "    .dataframe tbody tr th {\n",
       "        vertical-align: top;\n",
       "    }\n",
       "\n",
       "    .dataframe thead th {\n",
       "        text-align: right;\n",
       "    }\n",
       "</style>\n",
       "<table border=\"1\" class=\"dataframe\">\n",
       "  <thead>\n",
       "    <tr style=\"text-align: right;\">\n",
       "      <th></th>\n",
       "      <th>index</th>\n",
       "      <th>N</th>\n",
       "      <th>speaker</th>\n",
       "      <th>audio</th>\n",
       "      <th>link</th>\n",
       "      <th>context</th>\n",
       "      <th>token</th>\n",
       "      <th>realization</th>\n",
       "      <th>realization_class</th>\n",
       "      <th>var</th>\n",
       "      <th>position</th>\n",
       "      <th>year_of_birth</th>\n",
       "    </tr>\n",
       "  </thead>\n",
       "  <tbody>\n",
       "    <tr>\n",
       "      <th>0</th>\n",
       "      <td>0</td>\n",
       "      <td>4642</td>\n",
       "      <td>пнп1950</td>\n",
       "      <td>20160625e-pnp</td>\n",
       "      <td>http://www.parasolcorpus.org/Pushkino/OUT/2016...</td>\n",
       "      <td>Вот надо будет тоже вот поддомкрачивать да фун...</td>\n",
       "      <td>они</td>\n",
       "      <td>нрзб</td>\n",
       "      <td>ncl</td>\n",
       "      <td>one</td>\n",
       "      <td>384724.5</td>\n",
       "      <td>1950</td>\n",
       "    </tr>\n",
       "    <tr>\n",
       "      <th>1</th>\n",
       "      <td>1</td>\n",
       "      <td>6460</td>\n",
       "      <td>пнп1950</td>\n",
       "      <td>20160625e-pnp</td>\n",
       "      <td>http://www.parasolcorpus.org/Pushkino/OUT/2016...</td>\n",
       "      <td>Так что #они# вот сейчас особенно летом в эти,...</td>\n",
       "      <td>они</td>\n",
       "      <td>оне</td>\n",
       "      <td>cons</td>\n",
       "      <td>one</td>\n",
       "      <td>1128070.5</td>\n",
       "      <td>1950</td>\n",
       "    </tr>\n",
       "    <tr>\n",
       "      <th>2</th>\n",
       "      <td>2</td>\n",
       "      <td>6505</td>\n",
       "      <td>пнп1950</td>\n",
       "      <td>20160625e-pnp</td>\n",
       "      <td>http://www.parasolcorpus.org/Pushkino/OUT/2016...</td>\n",
       "      <td>#Они# там куда - нибудь в кусты забьются, что...</td>\n",
       "      <td>Они</td>\n",
       "      <td>нрзб</td>\n",
       "      <td>ncl</td>\n",
       "      <td>one</td>\n",
       "      <td>1147297.5</td>\n",
       "      <td>1950</td>\n",
       "    </tr>\n",
       "    <tr>\n",
       "      <th>3</th>\n",
       "      <td>3</td>\n",
       "      <td>6687</td>\n",
       "      <td>пнп1950</td>\n",
       "      <td>20160625e-pnp</td>\n",
       "      <td>http://www.parasolcorpus.org/Pushkino/OUT/2016...</td>\n",
       "      <td>А #они# студентки?</td>\n",
       "      <td>они</td>\n",
       "      <td>оне</td>\n",
       "      <td>cons</td>\n",
       "      <td>one</td>\n",
       "      <td>1224279.0</td>\n",
       "      <td>1950</td>\n",
       "    </tr>\n",
       "    <tr>\n",
       "      <th>4</th>\n",
       "      <td>4</td>\n",
       "      <td>6694</td>\n",
       "      <td>пнп1950</td>\n",
       "      <td>20160625e-pnp</td>\n",
       "      <td>http://www.parasolcorpus.org/Pushkino/OUT/2016...</td>\n",
       "      <td>#Они# тоже там же учатся, в этом самом?</td>\n",
       "      <td>Они</td>\n",
       "      <td>оне</td>\n",
       "      <td>cons</td>\n",
       "      <td>one</td>\n",
       "      <td>1229114.5</td>\n",
       "      <td>1950</td>\n",
       "    </tr>\n",
       "  </tbody>\n",
       "</table>\n",
       "</div>"
      ],
      "text/plain": [
       "   index     N  speaker          audio  \\\n",
       "0      0  4642  пнп1950  20160625e-pnp   \n",
       "1      1  6460  пнп1950  20160625e-pnp   \n",
       "2      2  6505  пнп1950  20160625e-pnp   \n",
       "3      3  6687  пнп1950  20160625e-pnp   \n",
       "4      4  6694  пнп1950  20160625e-pnp   \n",
       "\n",
       "                                                link  \\\n",
       "0  http://www.parasolcorpus.org/Pushkino/OUT/2016...   \n",
       "1  http://www.parasolcorpus.org/Pushkino/OUT/2016...   \n",
       "2  http://www.parasolcorpus.org/Pushkino/OUT/2016...   \n",
       "3  http://www.parasolcorpus.org/Pushkino/OUT/2016...   \n",
       "4  http://www.parasolcorpus.org/Pushkino/OUT/2016...   \n",
       "\n",
       "                                             context token realization  \\\n",
       "0  Вот надо будет тоже вот поддомкрачивать да фун...   они        нрзб   \n",
       "1  Так что #они# вот сейчас особенно летом в эти,...   они         оне   \n",
       "2   #Они# там куда - нибудь в кусты забьются, что...   Они        нрзб   \n",
       "3                                 А #они# студентки?   они         оне   \n",
       "4            #Они# тоже там же учатся, в этом самом?   Они         оне   \n",
       "\n",
       "  realization_class  var   position year_of_birth  \n",
       "0               ncl  one   384724.5          1950  \n",
       "1              cons  one  1128070.5          1950  \n",
       "2               ncl  one  1147297.5          1950  \n",
       "3              cons  one  1224279.0          1950  \n",
       "4              cons  one  1229114.5          1950  "
      ]
     },
     "execution_count": 106,
     "metadata": {},
     "output_type": "execute_result"
    }
   ],
   "source": [
    "full_df.head(5)"
   ]
  },
  {
   "cell_type": "code",
   "execution_count": 120,
   "metadata": {},
   "outputs": [
    {
     "name": "stdout",
     "output_type": "stream",
     "text": [
      "мит1926 \n",
      "тан1937 \n",
      "ипм1956 \n",
      "лгп1947 \n",
      "ндо1958 \n",
      "кип1931 \n",
      "Interwievers\n",
      "анп1929 \n",
      "опш1935 \n",
      "авч1930 \n",
      "юап1969 \n",
      "ент1968 \n",
      "лсо1941 \n",
      "ави1958 \n",
      "нxм\n",
      "ппп1955 \n",
      "епл1926 \n",
      "всп1996 \n",
      "свп1970 \n",
      "нпо1954 \n",
      "нвт1952 \n",
      "вах1963\n",
      "анп1938\n",
      "афш1958\n",
      "звк1941 \n",
      "ххх\n",
      "ахш \n",
      "нпо1965 \n",
      "свп1975 \n",
      "анп1936\n",
      "аит1954 \n",
      "еве1950 \n",
      "ххх1956 \n",
      "анп1937\n",
      "иит1991 \n",
      "лсо1942\n",
      "сек1930 \n",
      "гвп1949 \n",
      "анп1939\n",
      "ххх1956\n",
      "анп1931\n",
      "нвл1939 \n",
      "анп1934\n",
      "анп1943\n",
      "анп1933\n",
      "авт1928 \n",
      "анп1941\n",
      "ннт1960 \n",
      "няе1952 \n",
      "пфп1928 \n",
      "анп1935\n",
      "впч1930 \n",
      "xxx\n",
      "лнп1952 \n",
      "вап1963 \n",
      "анп1930\n",
      "офш1952 \n",
      "иип1951 \n",
      "нап1974 \n",
      "вкч1966 \n",
      "мдн1933 \n",
      "анп1932\n",
      "лпп1928 \n",
      "епл1927\n",
      "гбс1951 \n",
      "мгб1949 \n",
      "ффп1952 \n",
      "авм1922 \n",
      "егп1928 \n",
      "анп1940\n",
      "анп1942\n",
      "ахш\n",
      "анс1925 \n"
     ]
    }
   ],
   "source": [
    "speakers = set(list(full_df['speaker']))\n",
    "\n",
    "full_df['sex'] = 'whoo'\n",
    "\n",
    "for element in speakers:\n",
    "    try:\n",
    "        full_df.loc[full_df['speaker'] == element, 'sex'] = meta.loc[meta['Speaker ID'] == element, 'Sex'].item()\n",
    "    except ValueError:\n",
    "        print(element)\n",
    "        pass"
   ]
  },
  {
   "cell_type": "code",
   "execution_count": 121,
   "metadata": {},
   "outputs": [
    {
     "data": {
      "text/html": [
       "<div>\n",
       "<style scoped>\n",
       "    .dataframe tbody tr th:only-of-type {\n",
       "        vertical-align: middle;\n",
       "    }\n",
       "\n",
       "    .dataframe tbody tr th {\n",
       "        vertical-align: top;\n",
       "    }\n",
       "\n",
       "    .dataframe thead th {\n",
       "        text-align: right;\n",
       "    }\n",
       "</style>\n",
       "<table border=\"1\" class=\"dataframe\">\n",
       "  <thead>\n",
       "    <tr style=\"text-align: right;\">\n",
       "      <th></th>\n",
       "      <th>Speaker ID</th>\n",
       "      <th>Speaker ID (Lat)</th>\n",
       "      <th>Last name</th>\n",
       "      <th>First name</th>\n",
       "      <th>Patronimic name</th>\n",
       "      <th>Sex</th>\n",
       "      <th>Year of birth</th>\n",
       "      <th>Place of birth</th>\n",
       "      <th>Residence</th>\n",
       "      <th>Recordings</th>\n",
       "    </tr>\n",
       "  </thead>\n",
       "  <tbody>\n",
       "    <tr>\n",
       "      <th>138</th>\n",
       "      <td>пфп1928</td>\n",
       "      <td>pfp1928</td>\n",
       "      <td>Пушкина</td>\n",
       "      <td>Павла</td>\n",
       "      <td>Фёдоровна</td>\n",
       "      <td>female</td>\n",
       "      <td>1928</td>\n",
       "      <td>Михалевская (Ильина, Льдина), Исаевская (Пушкино)</td>\n",
       "      <td>Михалевская (Ильина, Льдина), Исаевская (Пушкино)</td>\n",
       "      <td>I20130625c (1:15:29), I20130625c1 (0:19:37), I...</td>\n",
       "    </tr>\n",
       "  </tbody>\n",
       "</table>\n",
       "</div>"
      ],
      "text/plain": [
       "    Speaker ID Speaker ID (Lat) Last name First name Patronimic name     Sex  \\\n",
       "138    пфп1928          pfp1928   Пушкина      Павла       Фёдоровна  female   \n",
       "\n",
       "     Year of birth                                     Place of birth  \\\n",
       "138           1928  Михалевская (Ильина, Льдина), Исаевская (Пушкино)   \n",
       "\n",
       "                                             Residence  \\\n",
       "138  Михалевская (Ильина, Льдина), Исаевская (Пушкино)   \n",
       "\n",
       "                                            Recordings  \n",
       "138  I20130625c (1:15:29), I20130625c1 (0:19:37), I...  "
      ]
     },
     "execution_count": 121,
     "metadata": {},
     "output_type": "execute_result"
    }
   ],
   "source": [
    "meta[meta['Speaker ID'] == 'пфп1928']"
   ]
  },
  {
   "cell_type": "code",
   "execution_count": 122,
   "metadata": {},
   "outputs": [],
   "source": [
    "full_df.to_csv('finall_data_140419.csv')"
   ]
  },
  {
   "cell_type": "code",
   "execution_count": 123,
   "metadata": {},
   "outputs": [
    {
     "data": {
      "text/plain": [
       "Counter({'female': 17674, 'male': 6412, 'whoo': 2048})"
      ]
     },
     "execution_count": 123,
     "metadata": {},
     "output_type": "execute_result"
    }
   ],
   "source": [
    "Counter(full_df['sex'])"
   ]
  },
  {
   "cell_type": "code",
   "execution_count": 126,
   "metadata": {},
   "outputs": [
    {
     "data": {
      "text/plain": [
       "Counter({'Interwievers': 7,\n",
       "         'xxx': 16,\n",
       "         'ави1958 ': 48,\n",
       "         'авм1922 ': 76,\n",
       "         'авт1928 ': 22,\n",
       "         'авч1930 ': 78,\n",
       "         'аит1954 ': 32,\n",
       "         'анп1929 ': 14,\n",
       "         'анп1930': 1,\n",
       "         'анп1931': 1,\n",
       "         'анп1932': 1,\n",
       "         'анп1933': 1,\n",
       "         'анп1934': 1,\n",
       "         'анп1935': 1,\n",
       "         'анп1936': 1,\n",
       "         'анп1937': 1,\n",
       "         'анп1938': 1,\n",
       "         'анп1939': 1,\n",
       "         'анп1940': 1,\n",
       "         'анп1941': 1,\n",
       "         'анп1942': 1,\n",
       "         'анп1943': 1,\n",
       "         'анс1925 ': 88,\n",
       "         'афш1958': 32,\n",
       "         'ахш': 1,\n",
       "         'ахш ': 2,\n",
       "         'вап1963 ': 80,\n",
       "         'вах1963': 22,\n",
       "         'вкч1966 ': 30,\n",
       "         'впч1930 ': 6,\n",
       "         'всп1996 ': 16,\n",
       "         'гбс1951 ': 18,\n",
       "         'гвп1949 ': 6,\n",
       "         'еве1950 ': 36,\n",
       "         'егп1928 ': 152,\n",
       "         'ент1968 ': 68,\n",
       "         'епл1926 ': 64,\n",
       "         'епл1927': 1,\n",
       "         'звк1941 ': 6,\n",
       "         'иип1951 ': 52,\n",
       "         'иит1991 ': 4,\n",
       "         'ипм1956 ': 22,\n",
       "         'кип1931 ': 8,\n",
       "         'лгп1947 ': 44,\n",
       "         'лнп1952 ': 82,\n",
       "         'лпп1928 ': 4,\n",
       "         'лсо1941 ': 26,\n",
       "         'лсо1942': 7,\n",
       "         'мгб1949 ': 64,\n",
       "         'мдн1933 ': 20,\n",
       "         'мит1926 ': 18,\n",
       "         'нxм': 6,\n",
       "         'нап1974 ': 28,\n",
       "         'нвл1939 ': 14,\n",
       "         'нвт1952 ': 62,\n",
       "         'ндо1958 ': 34,\n",
       "         'ннт1960 ': 26,\n",
       "         'нпо1954 ': 26,\n",
       "         'нпо1965 ': 30,\n",
       "         'няе1952 ': 20,\n",
       "         'опш1935 ': 8,\n",
       "         'офш1952 ': 12,\n",
       "         'ппп1955 ': 20,\n",
       "         'пфп1928 ': 194,\n",
       "         'свп1970 ': 66,\n",
       "         'свп1975 ': 116,\n",
       "         'сек1930 ': 26,\n",
       "         'тан1937 ': 16,\n",
       "         'ффп1952 ': 16,\n",
       "         'ххх': 6,\n",
       "         'ххх1956': 4,\n",
       "         'ххх1956 ': 6,\n",
       "         'юап1969 ': 26})"
      ]
     },
     "execution_count": 126,
     "metadata": {},
     "output_type": "execute_result"
    }
   ],
   "source": [
    "Counter(full_df.loc[full_df['sex'] == 'whoo', 'speaker'])"
   ]
  },
  {
   "cell_type": "code",
   "execution_count": null,
   "metadata": {},
   "outputs": [],
   "source": []
  }
 ],
 "metadata": {
  "kernelspec": {
   "display_name": "Python 3",
   "language": "python",
   "name": "python3"
  },
  "language_info": {
   "codemirror_mode": {
    "name": "ipython",
    "version": 3
   },
   "file_extension": ".py",
   "mimetype": "text/x-python",
   "name": "python",
   "nbconvert_exporter": "python",
   "pygments_lexer": "ipython3",
   "version": "3.5.2"
  }
 },
 "nbformat": 4,
 "nbformat_minor": 2
}
