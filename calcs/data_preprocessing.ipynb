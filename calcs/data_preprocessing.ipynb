{
 "cells": [
  {
   "cell_type": "code",
   "execution_count": 79,
   "metadata": {},
   "outputs": [
    {
     "data": {
      "text/plain": [
       "'http://192.168.0.50/Pushkino/OUT/20130701d-avm-222560-226418.wav'"
      ]
     },
     "execution_count": 79,
     "metadata": {},
     "output_type": "execute_result"
    }
   ],
   "source": [
    "import pandas as pd\n",
    "import re\n",
    "import numpy as np\n",
    "\n",
    "data = pd.read_excel('/Users/alexey/Documents/GitHub/diploma/calcs/adj_end.xlsx')\n",
    "\n",
    "data.Hyperlink[1]"
   ]
  },
  {
   "cell_type": "code",
   "execution_count": 97,
   "metadata": {},
   "outputs": [],
   "source": [
    "regex = re.compile('(\\d+)-(\\d+).wav')\n",
    "\n",
    "def replace(lis):\n",
    "    new_lis = []\n",
    "    for i in range(len(lis)):\n",
    "        \n",
    "        try:\n",
    "\n",
    "            find = re.findall(regex, str(lis[i]))\n",
    "\n",
    "            pos  = np.mean([int(find[0][1]), int(find[0][0])])\n",
    "\n",
    "            new_lis.append(pos)\n",
    "        \n",
    "        except IndexError:\n",
    "            \n",
    "            new_lis.append(np.nan)\n",
    "        \n",
    "    return new_lis\n",
    "\n",
    "        \n",
    "        \n",
    "data['pos'] = replace(data.Hyperlink.tolist())   \n",
    "\n",
    "data.to_csv('position.csv')"
   ]
  },
  {
   "cell_type": "code",
   "execution_count": 104,
   "metadata": {},
   "outputs": [],
   "source": [
    "data_2 = pd.read_excel('/Users/alexey/Documents/GitHub/diploma/calcs/kto_hto.xlsx')\n",
    "\n",
    "data_2['pos'] = replace(data_2['FileLink'].tolist())   "
   ]
  },
  {
   "cell_type": "code",
   "execution_count": 105,
   "metadata": {},
   "outputs": [],
   "source": [
    "data_2.to_csv('kto_hto_pos.csv')"
   ]
  },
  {
   "cell_type": "code",
   "execution_count": null,
   "metadata": {},
   "outputs": [],
   "source": []
  }
 ],
 "metadata": {
  "kernelspec": {
   "display_name": "Python 3",
   "language": "python",
   "name": "python3"
  },
  "language_info": {
   "codemirror_mode": {
    "name": "ipython",
    "version": 3
   },
   "file_extension": ".py",
   "mimetype": "text/x-python",
   "name": "python",
   "nbconvert_exporter": "python",
   "pygments_lexer": "ipython3",
   "version": "3.5.1"
  }
 },
 "nbformat": 4,
 "nbformat_minor": 2
}
