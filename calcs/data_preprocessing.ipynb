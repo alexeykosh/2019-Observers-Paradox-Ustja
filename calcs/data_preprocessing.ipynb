{
 "cells": [
  {
   "cell_type": "code",
   "execution_count": 14,
   "metadata": {},
   "outputs": [],
   "source": [
    "import pandas as pd\n",
    "import re\n",
    "import numpy as np\n",
    "from collections import Counter"
   ]
  },
  {
   "cell_type": "code",
   "execution_count": 221,
   "metadata": {},
   "outputs": [],
   "source": [
    "regex = re.compile('(\\d+)-(\\d+).wav')\n",
    "\n",
    "def replace(lis):\n",
    "    new_lis = []\n",
    "    for i in range(len(lis)):\n",
    "        \n",
    "        try:\n",
    "\n",
    "            find = re.findall(regex, str(lis[i]))\n",
    "\n",
    "            pos  = np.mean([int(find[0][1]), int(find[0][0])])\n",
    "\n",
    "            new_lis.append(pos)\n",
    "        \n",
    "        except IndexError:\n",
    "            \n",
    "            new_lis.append(np.nan)\n",
    "        \n",
    "    return new_lis\n",
    "\n",
    "        \n",
    "        \n",
    "# data['pos'] = replace(data.Hyperlink.tolist())   \n",
    "\n",
    "# data.to_csv('position.csv')"
   ]
  },
  {
   "cell_type": "code",
   "execution_count": 222,
   "metadata": {},
   "outputs": [
    {
     "ename": "FileNotFoundError",
     "evalue": "[Errno 2] No such file or directory: '/Users/alexey/Documents/GitHub/diploma/calcs/kto_hto.xlsx'",
     "output_type": "error",
     "traceback": [
      "\u001b[0;31m---------------------------------------------------------------------------\u001b[0m",
      "\u001b[0;31mFileNotFoundError\u001b[0m                         Traceback (most recent call last)",
      "\u001b[0;32m<ipython-input-222-460fa981d28e>\u001b[0m in \u001b[0;36m<module>\u001b[0;34m()\u001b[0m\n\u001b[0;32m----> 1\u001b[0;31m \u001b[0mdata_2\u001b[0m \u001b[0;34m=\u001b[0m \u001b[0mpd\u001b[0m\u001b[0;34m.\u001b[0m\u001b[0mread_excel\u001b[0m\u001b[0;34m(\u001b[0m\u001b[0;34m'/Users/alexey/Documents/GitHub/diploma/calcs/kto_hto.xlsx'\u001b[0m\u001b[0;34m)\u001b[0m\u001b[0;34m\u001b[0m\u001b[0m\n\u001b[0m\u001b[1;32m      2\u001b[0m \u001b[0;34m\u001b[0m\u001b[0m\n\u001b[1;32m      3\u001b[0m \u001b[0mdata_2\u001b[0m\u001b[0;34m[\u001b[0m\u001b[0;34m'pos'\u001b[0m\u001b[0;34m]\u001b[0m \u001b[0;34m=\u001b[0m \u001b[0mreplace\u001b[0m\u001b[0;34m(\u001b[0m\u001b[0mdata_2\u001b[0m\u001b[0;34m[\u001b[0m\u001b[0;34m'FileLink'\u001b[0m\u001b[0;34m]\u001b[0m\u001b[0;34m.\u001b[0m\u001b[0mtolist\u001b[0m\u001b[0;34m(\u001b[0m\u001b[0;34m)\u001b[0m\u001b[0;34m)\u001b[0m\u001b[0;34m\u001b[0m\u001b[0m\n",
      "\u001b[0;32m/Library/Frameworks/Python.framework/Versions/3.5/lib/python3.5/site-packages/pandas/util/_decorators.py\u001b[0m in \u001b[0;36mwrapper\u001b[0;34m(*args, **kwargs)\u001b[0m\n\u001b[1;32m    176\u001b[0m                 \u001b[0;32melse\u001b[0m\u001b[0;34m:\u001b[0m\u001b[0;34m\u001b[0m\u001b[0m\n\u001b[1;32m    177\u001b[0m                     \u001b[0mkwargs\u001b[0m\u001b[0;34m[\u001b[0m\u001b[0mnew_arg_name\u001b[0m\u001b[0;34m]\u001b[0m \u001b[0;34m=\u001b[0m \u001b[0mnew_arg_value\u001b[0m\u001b[0;34m\u001b[0m\u001b[0m\n\u001b[0;32m--> 178\u001b[0;31m             \u001b[0;32mreturn\u001b[0m \u001b[0mfunc\u001b[0m\u001b[0;34m(\u001b[0m\u001b[0;34m*\u001b[0m\u001b[0margs\u001b[0m\u001b[0;34m,\u001b[0m \u001b[0;34m**\u001b[0m\u001b[0mkwargs\u001b[0m\u001b[0;34m)\u001b[0m\u001b[0;34m\u001b[0m\u001b[0m\n\u001b[0m\u001b[1;32m    179\u001b[0m         \u001b[0;32mreturn\u001b[0m \u001b[0mwrapper\u001b[0m\u001b[0;34m\u001b[0m\u001b[0m\n\u001b[1;32m    180\u001b[0m     \u001b[0;32mreturn\u001b[0m \u001b[0m_deprecate_kwarg\u001b[0m\u001b[0;34m\u001b[0m\u001b[0m\n",
      "\u001b[0;32m/Library/Frameworks/Python.framework/Versions/3.5/lib/python3.5/site-packages/pandas/util/_decorators.py\u001b[0m in \u001b[0;36mwrapper\u001b[0;34m(*args, **kwargs)\u001b[0m\n\u001b[1;32m    176\u001b[0m                 \u001b[0;32melse\u001b[0m\u001b[0;34m:\u001b[0m\u001b[0;34m\u001b[0m\u001b[0m\n\u001b[1;32m    177\u001b[0m                     \u001b[0mkwargs\u001b[0m\u001b[0;34m[\u001b[0m\u001b[0mnew_arg_name\u001b[0m\u001b[0;34m]\u001b[0m \u001b[0;34m=\u001b[0m \u001b[0mnew_arg_value\u001b[0m\u001b[0;34m\u001b[0m\u001b[0m\n\u001b[0;32m--> 178\u001b[0;31m             \u001b[0;32mreturn\u001b[0m \u001b[0mfunc\u001b[0m\u001b[0;34m(\u001b[0m\u001b[0;34m*\u001b[0m\u001b[0margs\u001b[0m\u001b[0;34m,\u001b[0m \u001b[0;34m**\u001b[0m\u001b[0mkwargs\u001b[0m\u001b[0;34m)\u001b[0m\u001b[0;34m\u001b[0m\u001b[0m\n\u001b[0m\u001b[1;32m    179\u001b[0m         \u001b[0;32mreturn\u001b[0m \u001b[0mwrapper\u001b[0m\u001b[0;34m\u001b[0m\u001b[0m\n\u001b[1;32m    180\u001b[0m     \u001b[0;32mreturn\u001b[0m \u001b[0m_deprecate_kwarg\u001b[0m\u001b[0;34m\u001b[0m\u001b[0m\n",
      "\u001b[0;32m/Library/Frameworks/Python.framework/Versions/3.5/lib/python3.5/site-packages/pandas/io/excel.py\u001b[0m in \u001b[0;36mread_excel\u001b[0;34m(io, sheet_name, header, names, index_col, usecols, squeeze, dtype, engine, converters, true_values, false_values, skiprows, nrows, na_values, parse_dates, date_parser, thousands, comment, skipfooter, convert_float, **kwds)\u001b[0m\n\u001b[1;32m    305\u001b[0m \u001b[0;34m\u001b[0m\u001b[0m\n\u001b[1;32m    306\u001b[0m     \u001b[0;32mif\u001b[0m \u001b[0;32mnot\u001b[0m \u001b[0misinstance\u001b[0m\u001b[0;34m(\u001b[0m\u001b[0mio\u001b[0m\u001b[0;34m,\u001b[0m \u001b[0mExcelFile\u001b[0m\u001b[0;34m)\u001b[0m\u001b[0;34m:\u001b[0m\u001b[0;34m\u001b[0m\u001b[0m\n\u001b[0;32m--> 307\u001b[0;31m         \u001b[0mio\u001b[0m \u001b[0;34m=\u001b[0m \u001b[0mExcelFile\u001b[0m\u001b[0;34m(\u001b[0m\u001b[0mio\u001b[0m\u001b[0;34m,\u001b[0m \u001b[0mengine\u001b[0m\u001b[0;34m=\u001b[0m\u001b[0mengine\u001b[0m\u001b[0;34m)\u001b[0m\u001b[0;34m\u001b[0m\u001b[0m\n\u001b[0m\u001b[1;32m    308\u001b[0m \u001b[0;34m\u001b[0m\u001b[0m\n\u001b[1;32m    309\u001b[0m     return io.parse(\n",
      "\u001b[0;32m/Library/Frameworks/Python.framework/Versions/3.5/lib/python3.5/site-packages/pandas/io/excel.py\u001b[0m in \u001b[0;36m__init__\u001b[0;34m(self, io, **kwds)\u001b[0m\n\u001b[1;32m    392\u001b[0m             \u001b[0mself\u001b[0m\u001b[0;34m.\u001b[0m\u001b[0mbook\u001b[0m \u001b[0;34m=\u001b[0m \u001b[0mxlrd\u001b[0m\u001b[0;34m.\u001b[0m\u001b[0mopen_workbook\u001b[0m\u001b[0;34m(\u001b[0m\u001b[0mfile_contents\u001b[0m\u001b[0;34m=\u001b[0m\u001b[0mdata\u001b[0m\u001b[0;34m)\u001b[0m\u001b[0;34m\u001b[0m\u001b[0m\n\u001b[1;32m    393\u001b[0m         \u001b[0;32melif\u001b[0m \u001b[0misinstance\u001b[0m\u001b[0;34m(\u001b[0m\u001b[0mself\u001b[0m\u001b[0;34m.\u001b[0m\u001b[0m_io\u001b[0m\u001b[0;34m,\u001b[0m \u001b[0mcompat\u001b[0m\u001b[0;34m.\u001b[0m\u001b[0mstring_types\u001b[0m\u001b[0;34m)\u001b[0m\u001b[0;34m:\u001b[0m\u001b[0;34m\u001b[0m\u001b[0m\n\u001b[0;32m--> 394\u001b[0;31m             \u001b[0mself\u001b[0m\u001b[0;34m.\u001b[0m\u001b[0mbook\u001b[0m \u001b[0;34m=\u001b[0m \u001b[0mxlrd\u001b[0m\u001b[0;34m.\u001b[0m\u001b[0mopen_workbook\u001b[0m\u001b[0;34m(\u001b[0m\u001b[0mself\u001b[0m\u001b[0;34m.\u001b[0m\u001b[0m_io\u001b[0m\u001b[0;34m)\u001b[0m\u001b[0;34m\u001b[0m\u001b[0m\n\u001b[0m\u001b[1;32m    395\u001b[0m         \u001b[0;32melse\u001b[0m\u001b[0;34m:\u001b[0m\u001b[0;34m\u001b[0m\u001b[0m\n\u001b[1;32m    396\u001b[0m             raise ValueError('Must explicitly set engine if not passing in'\n",
      "\u001b[0;32m/Library/Frameworks/Python.framework/Versions/3.5/lib/python3.5/site-packages/xlrd/__init__.py\u001b[0m in \u001b[0;36mopen_workbook\u001b[0;34m(filename, logfile, verbosity, use_mmap, file_contents, encoding_override, formatting_info, on_demand, ragged_rows)\u001b[0m\n\u001b[1;32m    114\u001b[0m         \u001b[0mpeek\u001b[0m \u001b[0;34m=\u001b[0m \u001b[0mfile_contents\u001b[0m\u001b[0;34m[\u001b[0m\u001b[0;34m:\u001b[0m\u001b[0mpeeksz\u001b[0m\u001b[0;34m]\u001b[0m\u001b[0;34m\u001b[0m\u001b[0m\n\u001b[1;32m    115\u001b[0m     \u001b[0;32melse\u001b[0m\u001b[0;34m:\u001b[0m\u001b[0;34m\u001b[0m\u001b[0m\n\u001b[0;32m--> 116\u001b[0;31m         \u001b[0;32mwith\u001b[0m \u001b[0mopen\u001b[0m\u001b[0;34m(\u001b[0m\u001b[0mfilename\u001b[0m\u001b[0;34m,\u001b[0m \u001b[0;34m\"rb\"\u001b[0m\u001b[0;34m)\u001b[0m \u001b[0;32mas\u001b[0m \u001b[0mf\u001b[0m\u001b[0;34m:\u001b[0m\u001b[0;34m\u001b[0m\u001b[0m\n\u001b[0m\u001b[1;32m    117\u001b[0m             \u001b[0mpeek\u001b[0m \u001b[0;34m=\u001b[0m \u001b[0mf\u001b[0m\u001b[0;34m.\u001b[0m\u001b[0mread\u001b[0m\u001b[0;34m(\u001b[0m\u001b[0mpeeksz\u001b[0m\u001b[0;34m)\u001b[0m\u001b[0;34m\u001b[0m\u001b[0m\n\u001b[1;32m    118\u001b[0m     \u001b[0;32mif\u001b[0m \u001b[0mpeek\u001b[0m \u001b[0;34m==\u001b[0m \u001b[0;34mb\"PK\\x03\\x04\"\u001b[0m\u001b[0;34m:\u001b[0m \u001b[0;31m# a ZIP file\u001b[0m\u001b[0;34m\u001b[0m\u001b[0m\n",
      "\u001b[0;31mFileNotFoundError\u001b[0m: [Errno 2] No such file or directory: '/Users/alexey/Documents/GitHub/diploma/calcs/kto_hto.xlsx'"
     ]
    }
   ],
   "source": [
    "data_2 = pd.read_excel('/Users/alexey/Documents/GitHub/diploma/calcs/kto_hto.xlsx')\n",
    "\n",
    "data_2['pos'] = replace(data_2['FileLink'].tolist())   "
   ]
  },
  {
   "cell_type": "code",
   "execution_count": 223,
   "metadata": {},
   "outputs": [],
   "source": [
    "data_kto = pd.read_csv('df_kto.csv')"
   ]
  },
  {
   "cell_type": "code",
   "execution_count": 224,
   "metadata": {},
   "outputs": [
    {
     "name": "stderr",
     "output_type": "stream",
     "text": [
      "/Library/Frameworks/Python.framework/Versions/3.5/lib/python3.5/site-packages/pandas/core/indexing.py:543: SettingWithCopyWarning: \n",
      "A value is trying to be set on a copy of a slice from a DataFrame.\n",
      "Try using .loc[row_indexer,col_indexer] = value instead\n",
      "\n",
      "See the caveats in the documentation: http://pandas.pydata.org/pandas-docs/stable/indexing.html#indexing-view-versus-copy\n",
      "  self.obj[item] = s\n"
     ]
    }
   ],
   "source": [
    "for element in Counter(data_kto['Record']):\n",
    "    data = data_kto[data_kto['Record'] == element]\n",
    "    data.loc[data['pos'] >= 0.5, 'pos'] = 2\n",
    "    data.loc[data['pos'] <= 0.5, 'pos'] = 1\n",
    "    data_kto[data_kto['Record'] == element] = data"
   ]
  },
  {
   "cell_type": "code",
   "execution_count": 225,
   "metadata": {},
   "outputs": [],
   "source": [
    "data_kto.to_csv('data_kto_with_pos.csv')"
   ]
  },
  {
   "cell_type": "markdown",
   "metadata": {},
   "source": [
    "## All in one dataset preparation"
   ]
  },
  {
   "cell_type": "code",
   "execution_count": 349,
   "metadata": {},
   "outputs": [],
   "source": [
    "kto = pd.read_csv('data_kto_with_pos.csv')"
   ]
  },
  {
   "cell_type": "code",
   "execution_count": 350,
   "metadata": {},
   "outputs": [],
   "source": [
    "adj = pd.read_csv('data/position.csv')"
   ]
  },
  {
   "cell_type": "markdown",
   "metadata": {},
   "source": [
    "#### SJA"
   ]
  },
  {
   "cell_type": "code",
   "execution_count": 351,
   "metadata": {},
   "outputs": [],
   "source": [
    "sja = pd.read_excel('data/sja_first.xlsx')"
   ]
  },
  {
   "cell_type": "code",
   "execution_count": 352,
   "metadata": {},
   "outputs": [],
   "source": [
    "sja['year of birth'] = 0"
   ]
  },
  {
   "cell_type": "code",
   "execution_count": 353,
   "metadata": {},
   "outputs": [],
   "source": [
    "sja['сV vs. сь'] = sja['сV vs. сь'].fillna('d')"
   ]
  },
  {
   "cell_type": "code",
   "execution_count": 354,
   "metadata": {},
   "outputs": [],
   "source": [
    "sja['pos'] = replace(sja['ссылка правильная'].tolist())   "
   ]
  },
  {
   "cell_type": "code",
   "execution_count": 355,
   "metadata": {},
   "outputs": [],
   "source": [
    "sja_clean = sja[['информант', 'year of birth' , 'файл', 'сV vs. сь', 'pos']]"
   ]
  },
  {
   "cell_type": "code",
   "execution_count": 356,
   "metadata": {},
   "outputs": [
    {
     "name": "stderr",
     "output_type": "stream",
     "text": [
      "/Library/Frameworks/Python.framework/Versions/3.5/lib/python3.5/site-packages/ipykernel_launcher.py:4: SettingWithCopyWarning: \n",
      "A value is trying to be set on a copy of a slice from a DataFrame.\n",
      "Try using .loc[row_indexer,col_indexer] = value instead\n",
      "\n",
      "See the caveats in the documentation: http://pandas.pydata.org/pandas-docs/stable/indexing.html#indexing-view-versus-copy\n",
      "  after removing the cwd from sys.path.\n",
      "/Library/Frameworks/Python.framework/Versions/3.5/lib/python3.5/site-packages/pandas/core/indexing.py:543: SettingWithCopyWarning: \n",
      "A value is trying to be set on a copy of a slice from a DataFrame.\n",
      "Try using .loc[row_indexer,col_indexer] = value instead\n",
      "\n",
      "See the caveats in the documentation: http://pandas.pydata.org/pandas-docs/stable/indexing.html#indexing-view-versus-copy\n",
      "  self.obj[item] = s\n",
      "/Library/Frameworks/Python.framework/Versions/3.5/lib/python3.5/site-packages/ipykernel_launcher.py:8: SettingWithCopyWarning: \n",
      "A value is trying to be set on a copy of a slice from a DataFrame.\n",
      "Try using .loc[row_indexer,col_indexer] = value instead\n",
      "\n",
      "See the caveats in the documentation: http://pandas.pydata.org/pandas-docs/stable/indexing.html#indexing-view-versus-copy\n",
      "  \n"
     ]
    }
   ],
   "source": [
    "for element in Counter(sja_clean['файл']):\n",
    "    data = sja_clean[sja_clean['файл'] == element]\n",
    "    \n",
    "    data['pos'] = data['pos']/max(data['pos'])\n",
    "    \n",
    "    data.loc[data['pos'] >= 0.5, 'pos'] = 2\n",
    "    data.loc[data['pos'] <= 0.5, 'pos'] = 1\n",
    "    sja_clean[sja_clean['файл'] == element] = data"
   ]
  },
  {
   "cell_type": "code",
   "execution_count": 357,
   "metadata": {},
   "outputs": [
    {
     "name": "stderr",
     "output_type": "stream",
     "text": [
      "/Library/Frameworks/Python.framework/Versions/3.5/lib/python3.5/site-packages/ipykernel_launcher.py:4: SettingWithCopyWarning: \n",
      "A value is trying to be set on a copy of a slice from a DataFrame.\n",
      "Try using .loc[row_indexer,col_indexer] = value instead\n",
      "\n",
      "See the caveats in the documentation: http://pandas.pydata.org/pandas-docs/stable/indexing.html#indexing-view-versus-copy\n",
      "  after removing the cwd from sys.path.\n",
      "/Library/Frameworks/Python.framework/Versions/3.5/lib/python3.5/site-packages/ipykernel_launcher.py:9: SettingWithCopyWarning: \n",
      "A value is trying to be set on a copy of a slice from a DataFrame.\n",
      "Try using .loc[row_indexer,col_indexer] = value instead\n",
      "\n",
      "See the caveats in the documentation: http://pandas.pydata.org/pandas-docs/stable/indexing.html#indexing-view-versus-copy\n",
      "  if __name__ == '__main__':\n",
      "/Library/Frameworks/Python.framework/Versions/3.5/lib/python3.5/site-packages/pandas/core/indexing.py:543: SettingWithCopyWarning: \n",
      "A value is trying to be set on a copy of a slice from a DataFrame.\n",
      "Try using .loc[row_indexer,col_indexer] = value instead\n",
      "\n",
      "See the caveats in the documentation: http://pandas.pydata.org/pandas-docs/stable/indexing.html#indexing-view-versus-copy\n",
      "  self.obj[item] = s\n",
      "/Library/Frameworks/Python.framework/Versions/3.5/lib/python3.5/site-packages/ipykernel_launcher.py:13: SettingWithCopyWarning: \n",
      "A value is trying to be set on a copy of a slice from a DataFrame.\n",
      "Try using .loc[row_indexer,col_indexer] = value instead\n",
      "\n",
      "See the caveats in the documentation: http://pandas.pydata.org/pandas-docs/stable/indexing.html#indexing-view-versus-copy\n",
      "  del sys.path[0]\n"
     ]
    }
   ],
   "source": [
    "sja['е vs. я'] = sja['е vs. я'].fillna('d')\n",
    "sja_clean_2 = sja[['информант', 'year of birth' , 'файл', 'е vs. я', 'pos']]\n",
    "\n",
    "sja_clean_2['var'] = 'sja_e_vs_ja'\n",
    "\n",
    "for element in Counter(sja_clean_2['файл']):\n",
    "    data = sja_clean_2[sja_clean_2['файл'] == element]\n",
    "    \n",
    "    data['pos'] = data['pos']/max(data['pos'])\n",
    "    \n",
    "    data.loc[data['pos'] >= 0.5, 'pos'] = 2\n",
    "    data.loc[data['pos'] <= 0.5, 'pos'] = 1\n",
    "    sja_clean_2[sja_clean_2['файл'] == element] = data"
   ]
  },
  {
   "cell_type": "markdown",
   "metadata": {},
   "source": [
    "#### KTO"
   ]
  },
  {
   "cell_type": "code",
   "execution_count": 358,
   "metadata": {},
   "outputs": [],
   "source": [
    "kto_clean = kto[['Subject', 'Birth.year', 'Record', 'Num', 'pos']]"
   ]
  },
  {
   "cell_type": "code",
   "execution_count": 359,
   "metadata": {},
   "outputs": [
    {
     "name": "stderr",
     "output_type": "stream",
     "text": [
      "/Library/Frameworks/Python.framework/Versions/3.5/lib/python3.5/site-packages/ipykernel_launcher.py:1: SettingWithCopyWarning: \n",
      "A value is trying to be set on a copy of a slice from a DataFrame.\n",
      "Try using .loc[row_indexer,col_indexer] = value instead\n",
      "\n",
      "See the caveats in the documentation: http://pandas.pydata.org/pandas-docs/stable/indexing.html#indexing-view-versus-copy\n",
      "  \"\"\"Entry point for launching an IPython kernel.\n"
     ]
    }
   ],
   "source": [
    "kto_clean['var'] = 'kto'"
   ]
  },
  {
   "cell_type": "code",
   "execution_count": 360,
   "metadata": {},
   "outputs": [
    {
     "data": {
      "text/html": [
       "<div>\n",
       "<style scoped>\n",
       "    .dataframe tbody tr th:only-of-type {\n",
       "        vertical-align: middle;\n",
       "    }\n",
       "\n",
       "    .dataframe tbody tr th {\n",
       "        vertical-align: top;\n",
       "    }\n",
       "\n",
       "    .dataframe thead th {\n",
       "        text-align: right;\n",
       "    }\n",
       "</style>\n",
       "<table border=\"1\" class=\"dataframe\">\n",
       "  <thead>\n",
       "    <tr style=\"text-align: right;\">\n",
       "      <th></th>\n",
       "      <th>Subject</th>\n",
       "      <th>Birth.year</th>\n",
       "      <th>Record</th>\n",
       "      <th>Num</th>\n",
       "      <th>pos</th>\n",
       "      <th>var</th>\n",
       "    </tr>\n",
       "  </thead>\n",
       "  <tbody>\n",
       "    <tr>\n",
       "      <th>0</th>\n",
       "      <td>авм1922</td>\n",
       "      <td>1922</td>\n",
       "      <td>N20130624b2</td>\n",
       "      <td>standart</td>\n",
       "      <td>2.0</td>\n",
       "      <td>kto</td>\n",
       "    </tr>\n",
       "    <tr>\n",
       "      <th>1</th>\n",
       "      <td>авм1922</td>\n",
       "      <td>1922</td>\n",
       "      <td>N20130624b2</td>\n",
       "      <td>dialectal</td>\n",
       "      <td>2.0</td>\n",
       "      <td>kto</td>\n",
       "    </tr>\n",
       "    <tr>\n",
       "      <th>2</th>\n",
       "      <td>авм1922</td>\n",
       "      <td>1922</td>\n",
       "      <td>N20130624b2</td>\n",
       "      <td>standart</td>\n",
       "      <td>2.0</td>\n",
       "      <td>kto</td>\n",
       "    </tr>\n",
       "    <tr>\n",
       "      <th>3</th>\n",
       "      <td>авм1922</td>\n",
       "      <td>1922</td>\n",
       "      <td>20130701d-avm</td>\n",
       "      <td>dialectal</td>\n",
       "      <td>1.0</td>\n",
       "      <td>kto</td>\n",
       "    </tr>\n",
       "    <tr>\n",
       "      <th>4</th>\n",
       "      <td>авм1922</td>\n",
       "      <td>1922</td>\n",
       "      <td>20130701d-avm</td>\n",
       "      <td>dialectal</td>\n",
       "      <td>1.0</td>\n",
       "      <td>kto</td>\n",
       "    </tr>\n",
       "    <tr>\n",
       "      <th>5</th>\n",
       "      <td>авм1922</td>\n",
       "      <td>1922</td>\n",
       "      <td>20130701d-avm</td>\n",
       "      <td>dialectal</td>\n",
       "      <td>1.0</td>\n",
       "      <td>kto</td>\n",
       "    </tr>\n",
       "    <tr>\n",
       "      <th>6</th>\n",
       "      <td>авм1922</td>\n",
       "      <td>1922</td>\n",
       "      <td>20130701d-avm</td>\n",
       "      <td>dialectal</td>\n",
       "      <td>1.0</td>\n",
       "      <td>kto</td>\n",
       "    </tr>\n",
       "    <tr>\n",
       "      <th>7</th>\n",
       "      <td>авм1922</td>\n",
       "      <td>1922</td>\n",
       "      <td>20130701d-avm</td>\n",
       "      <td>dialectal</td>\n",
       "      <td>1.0</td>\n",
       "      <td>kto</td>\n",
       "    </tr>\n",
       "    <tr>\n",
       "      <th>8</th>\n",
       "      <td>авм1922</td>\n",
       "      <td>1922</td>\n",
       "      <td>20130701d-avm</td>\n",
       "      <td>dialectal</td>\n",
       "      <td>1.0</td>\n",
       "      <td>kto</td>\n",
       "    </tr>\n",
       "    <tr>\n",
       "      <th>9</th>\n",
       "      <td>авм1922</td>\n",
       "      <td>1922</td>\n",
       "      <td>20130701d-avm</td>\n",
       "      <td>dialectal</td>\n",
       "      <td>1.0</td>\n",
       "      <td>kto</td>\n",
       "    </tr>\n",
       "  </tbody>\n",
       "</table>\n",
       "</div>"
      ],
      "text/plain": [
       "   Subject Birth.year         Record        Num  pos  var\n",
       "0  авм1922       1922    N20130624b2   standart  2.0  kto\n",
       "1  авм1922       1922    N20130624b2  dialectal  2.0  kto\n",
       "2  авм1922       1922    N20130624b2   standart  2.0  kto\n",
       "3  авм1922       1922  20130701d-avm  dialectal  1.0  kto\n",
       "4  авм1922       1922  20130701d-avm  dialectal  1.0  kto\n",
       "5  авм1922       1922  20130701d-avm  dialectal  1.0  kto\n",
       "6  авм1922       1922  20130701d-avm  dialectal  1.0  kto\n",
       "7  авм1922       1922  20130701d-avm  dialectal  1.0  kto\n",
       "8  авм1922       1922  20130701d-avm  dialectal  1.0  kto\n",
       "9  авм1922       1922  20130701d-avm  dialectal  1.0  kto"
      ]
     },
     "execution_count": 360,
     "metadata": {},
     "output_type": "execute_result"
    }
   ],
   "source": [
    "kto_clean.head(10)"
   ]
  },
  {
   "cell_type": "markdown",
   "metadata": {},
   "source": [
    "#### ADJ"
   ]
  },
  {
   "cell_type": "code",
   "execution_count": 361,
   "metadata": {},
   "outputs": [
    {
     "data": {
      "text/html": [
       "<div>\n",
       "<style scoped>\n",
       "    .dataframe tbody tr th:only-of-type {\n",
       "        vertical-align: middle;\n",
       "    }\n",
       "\n",
       "    .dataframe tbody tr th {\n",
       "        vertical-align: top;\n",
       "    }\n",
       "\n",
       "    .dataframe thead th {\n",
       "        text-align: right;\n",
       "    }\n",
       "</style>\n",
       "<table border=\"1\" class=\"dataframe\">\n",
       "  <thead>\n",
       "    <tr style=\"text-align: right;\">\n",
       "      <th></th>\n",
       "      <th>Unnamed: 0</th>\n",
       "      <th>N</th>\n",
       "      <th>Query</th>\n",
       "      <th>Annotation_date</th>\n",
       "      <th>Number</th>\n",
       "      <th>Individual_code</th>\n",
       "      <th>Individual</th>\n",
       "      <th>Birth_year</th>\n",
       "      <th>File_name</th>\n",
       "      <th>Original_link</th>\n",
       "      <th>Hyperlink</th>\n",
       "      <th>Context</th>\n",
       "      <th>Item</th>\n",
       "      <th>Realization_raw</th>\n",
       "      <th>Realization_type</th>\n",
       "      <th>Binary_response</th>\n",
       "      <th>Stressed</th>\n",
       "      <th>Gram_type</th>\n",
       "      <th>Case</th>\n",
       "      <th>pos</th>\n",
       "    </tr>\n",
       "  </thead>\n",
       "  <tbody>\n",
       "    <tr>\n",
       "      <th>0</th>\n",
       "      <td>0</td>\n",
       "      <td>1</td>\n",
       "      <td>words_in_uju</td>\n",
       "      <td>1606</td>\n",
       "      <td>91141</td>\n",
       "      <td>авм1922</td>\n",
       "      <td>авм</td>\n",
       "      <td>1922.0</td>\n",
       "      <td>20130701d-avm</td>\n",
       "      <td>NaN</td>\n",
       "      <td>http://192.168.0.50/Pushkino/OUT/20130701d-avm...</td>\n",
       "      <td>Ско = #скорую# вызывать.</td>\n",
       "      <td>скорую</td>\n",
       "      <td>uu</td>\n",
       "      <td>VV</td>\n",
       "      <td>dialectal</td>\n",
       "      <td>N</td>\n",
       "      <td>nonpronominal</td>\n",
       "      <td>acc</td>\n",
       "      <td>211299.5</td>\n",
       "    </tr>\n",
       "  </tbody>\n",
       "</table>\n",
       "</div>"
      ],
      "text/plain": [
       "   Unnamed: 0  N         Query  Annotation_date  Number Individual_code  \\\n",
       "0           0  1  words_in_uju             1606   91141         авм1922   \n",
       "\n",
       "  Individual  Birth_year      File_name Original_link  \\\n",
       "0        авм      1922.0  20130701d-avm           NaN   \n",
       "\n",
       "                                           Hyperlink  \\\n",
       "0  http://192.168.0.50/Pushkino/OUT/20130701d-avm...   \n",
       "\n",
       "                    Context    Item Realization_raw Realization_type  \\\n",
       "0  Ско = #скорую# вызывать.  скорую              uu               VV   \n",
       "\n",
       "  Binary_response Stressed      Gram_type Case       pos  \n",
       "0       dialectal        N  nonpronominal  acc  211299.5  "
      ]
     },
     "execution_count": 361,
     "metadata": {},
     "output_type": "execute_result"
    }
   ],
   "source": [
    "adj.head(1)"
   ]
  },
  {
   "cell_type": "code",
   "execution_count": 362,
   "metadata": {},
   "outputs": [
    {
     "name": "stderr",
     "output_type": "stream",
     "text": [
      "/Library/Frameworks/Python.framework/Versions/3.5/lib/python3.5/site-packages/ipykernel_launcher.py:4: SettingWithCopyWarning: \n",
      "A value is trying to be set on a copy of a slice from a DataFrame.\n",
      "Try using .loc[row_indexer,col_indexer] = value instead\n",
      "\n",
      "See the caveats in the documentation: http://pandas.pydata.org/pandas-docs/stable/indexing.html#indexing-view-versus-copy\n",
      "  after removing the cwd from sys.path.\n",
      "/Library/Frameworks/Python.framework/Versions/3.5/lib/python3.5/site-packages/pandas/core/indexing.py:543: SettingWithCopyWarning: \n",
      "A value is trying to be set on a copy of a slice from a DataFrame.\n",
      "Try using .loc[row_indexer,col_indexer] = value instead\n",
      "\n",
      "See the caveats in the documentation: http://pandas.pydata.org/pandas-docs/stable/indexing.html#indexing-view-versus-copy\n",
      "  self.obj[item] = s\n"
     ]
    }
   ],
   "source": [
    "for element in Counter(adj['File_name']):\n",
    "    data = adj[adj['File_name'] == element]\n",
    "    \n",
    "    data['pos'] = data['pos']/max(data['pos'])\n",
    "    \n",
    "    data.loc[data['pos'] >= 0.5, 'pos'] = 2\n",
    "    data.loc[data['pos'] <= 0.5, 'pos'] = 1\n",
    "    adj[adj['File_name'] == element] = data"
   ]
  },
  {
   "cell_type": "code",
   "execution_count": 363,
   "metadata": {},
   "outputs": [],
   "source": [
    "adj_clean = adj[['Individual_code', 'Birth_year', 'File_name', 'Binary_response', 'pos']]"
   ]
  },
  {
   "cell_type": "code",
   "execution_count": 364,
   "metadata": {},
   "outputs": [
    {
     "name": "stderr",
     "output_type": "stream",
     "text": [
      "/Library/Frameworks/Python.framework/Versions/3.5/lib/python3.5/site-packages/ipykernel_launcher.py:1: SettingWithCopyWarning: \n",
      "A value is trying to be set on a copy of a slice from a DataFrame.\n",
      "Try using .loc[row_indexer,col_indexer] = value instead\n",
      "\n",
      "See the caveats in the documentation: http://pandas.pydata.org/pandas-docs/stable/indexing.html#indexing-view-versus-copy\n",
      "  \"\"\"Entry point for launching an IPython kernel.\n"
     ]
    }
   ],
   "source": [
    "adj_clean['var'] = 'adj'"
   ]
  },
  {
   "cell_type": "markdown",
   "metadata": {},
   "source": [
    "#### Combining"
   ]
  },
  {
   "cell_type": "code",
   "execution_count": 365,
   "metadata": {},
   "outputs": [
    {
     "data": {
      "text/html": [
       "<div>\n",
       "<style scoped>\n",
       "    .dataframe tbody tr th:only-of-type {\n",
       "        vertical-align: middle;\n",
       "    }\n",
       "\n",
       "    .dataframe tbody tr th {\n",
       "        vertical-align: top;\n",
       "    }\n",
       "\n",
       "    .dataframe thead th {\n",
       "        text-align: right;\n",
       "    }\n",
       "</style>\n",
       "<table border=\"1\" class=\"dataframe\">\n",
       "  <thead>\n",
       "    <tr style=\"text-align: right;\">\n",
       "      <th></th>\n",
       "      <th>Individual_code</th>\n",
       "      <th>Birth_year</th>\n",
       "      <th>File_name</th>\n",
       "      <th>Binary_response</th>\n",
       "      <th>pos</th>\n",
       "      <th>var</th>\n",
       "    </tr>\n",
       "  </thead>\n",
       "  <tbody>\n",
       "    <tr>\n",
       "      <th>0</th>\n",
       "      <td>авм1922</td>\n",
       "      <td>1922.0</td>\n",
       "      <td>20130701d-avm</td>\n",
       "      <td>dialectal</td>\n",
       "      <td>1.0</td>\n",
       "      <td>adj</td>\n",
       "    </tr>\n",
       "    <tr>\n",
       "      <th>1</th>\n",
       "      <td>авм1922</td>\n",
       "      <td>1922.0</td>\n",
       "      <td>20130701d-avm</td>\n",
       "      <td>nondialectal</td>\n",
       "      <td>1.0</td>\n",
       "      <td>adj</td>\n",
       "    </tr>\n",
       "  </tbody>\n",
       "</table>\n",
       "</div>"
      ],
      "text/plain": [
       "  Individual_code  Birth_year      File_name Binary_response  pos  var\n",
       "0         авм1922      1922.0  20130701d-avm       dialectal  1.0  adj\n",
       "1         авм1922      1922.0  20130701d-avm    nondialectal  1.0  adj"
      ]
     },
     "execution_count": 365,
     "metadata": {},
     "output_type": "execute_result"
    }
   ],
   "source": [
    "adj_clean.replace('nondialectal', 'standart')\n",
    "\n",
    "adj_clean.head(2)"
   ]
  },
  {
   "cell_type": "code",
   "execution_count": 366,
   "metadata": {},
   "outputs": [
    {
     "data": {
      "text/plain": [
       "Counter({'?': 125, 'd': 1463, 'd?': 275, 's': 360, 's?': 233})"
      ]
     },
     "execution_count": 366,
     "metadata": {},
     "output_type": "execute_result"
    }
   ],
   "source": [
    "Counter(sja['е vs. я'])"
   ]
  },
  {
   "cell_type": "code",
   "execution_count": 367,
   "metadata": {},
   "outputs": [
    {
     "data": {
      "text/plain": [
       "Counter({'d': 1554, 's': 901, 's?': 1})"
      ]
     },
     "execution_count": 367,
     "metadata": {},
     "output_type": "execute_result"
    }
   ],
   "source": [
    "Counter(sja['сV vs. сь'])"
   ]
  },
  {
   "cell_type": "code",
   "execution_count": 368,
   "metadata": {},
   "outputs": [
    {
     "name": "stderr",
     "output_type": "stream",
     "text": [
      "/Library/Frameworks/Python.framework/Versions/3.5/lib/python3.5/site-packages/pandas/core/frame.py:3798: SettingWithCopyWarning: \n",
      "A value is trying to be set on a copy of a slice from a DataFrame\n",
      "\n",
      "See the caveats in the documentation: http://pandas.pydata.org/pandas-docs/stable/indexing.html#indexing-view-versus-copy\n",
      "  method=method)\n"
     ]
    },
    {
     "data": {
      "text/html": [
       "<div>\n",
       "<style scoped>\n",
       "    .dataframe tbody tr th:only-of-type {\n",
       "        vertical-align: middle;\n",
       "    }\n",
       "\n",
       "    .dataframe tbody tr th {\n",
       "        vertical-align: top;\n",
       "    }\n",
       "\n",
       "    .dataframe thead th {\n",
       "        text-align: right;\n",
       "    }\n",
       "</style>\n",
       "<table border=\"1\" class=\"dataframe\">\n",
       "  <thead>\n",
       "    <tr style=\"text-align: right;\">\n",
       "      <th></th>\n",
       "      <th>информант</th>\n",
       "      <th>year of birth</th>\n",
       "      <th>файл</th>\n",
       "      <th>сV vs. сь</th>\n",
       "      <th>pos</th>\n",
       "    </tr>\n",
       "  </thead>\n",
       "  <tbody>\n",
       "    <tr>\n",
       "      <th>0</th>\n",
       "      <td>анс1925</td>\n",
       "      <td>0</td>\n",
       "      <td>I20130625b2</td>\n",
       "      <td>standart</td>\n",
       "      <td>1.0</td>\n",
       "    </tr>\n",
       "    <tr>\n",
       "      <th>1</th>\n",
       "      <td>анс1925</td>\n",
       "      <td>0</td>\n",
       "      <td>I20130625b2</td>\n",
       "      <td>standart</td>\n",
       "      <td>1.0</td>\n",
       "    </tr>\n",
       "  </tbody>\n",
       "</table>\n",
       "</div>"
      ],
      "text/plain": [
       "  информант  year of birth         файл сV vs. сь  pos\n",
       "0   анс1925              0  I20130625b2  standart  1.0\n",
       "1   анс1925              0  I20130625b2  standart  1.0"
      ]
     },
     "execution_count": 368,
     "metadata": {},
     "output_type": "execute_result"
    }
   ],
   "source": [
    "sja_clean.replace(['s', 's?'], 'standart', inplace=True)\n",
    "\n",
    "sja_clean.replace(['d?', 'd'], 'dialectal', inplace=True)\n",
    "\n",
    "\n",
    "sja_clean.head(2)"
   ]
  },
  {
   "cell_type": "code",
   "execution_count": 369,
   "metadata": {},
   "outputs": [
    {
     "name": "stderr",
     "output_type": "stream",
     "text": [
      "/Library/Frameworks/Python.framework/Versions/3.5/lib/python3.5/site-packages/pandas/core/frame.py:3798: SettingWithCopyWarning: \n",
      "A value is trying to be set on a copy of a slice from a DataFrame\n",
      "\n",
      "See the caveats in the documentation: http://pandas.pydata.org/pandas-docs/stable/indexing.html#indexing-view-versus-copy\n",
      "  method=method)\n"
     ]
    },
    {
     "data": {
      "text/html": [
       "<div>\n",
       "<style scoped>\n",
       "    .dataframe tbody tr th:only-of-type {\n",
       "        vertical-align: middle;\n",
       "    }\n",
       "\n",
       "    .dataframe tbody tr th {\n",
       "        vertical-align: top;\n",
       "    }\n",
       "\n",
       "    .dataframe thead th {\n",
       "        text-align: right;\n",
       "    }\n",
       "</style>\n",
       "<table border=\"1\" class=\"dataframe\">\n",
       "  <thead>\n",
       "    <tr style=\"text-align: right;\">\n",
       "      <th></th>\n",
       "      <th>информант</th>\n",
       "      <th>year of birth</th>\n",
       "      <th>файл</th>\n",
       "      <th>е vs. я</th>\n",
       "      <th>pos</th>\n",
       "      <th>var</th>\n",
       "    </tr>\n",
       "  </thead>\n",
       "  <tbody>\n",
       "    <tr>\n",
       "      <th>0</th>\n",
       "      <td>анс1925</td>\n",
       "      <td>0</td>\n",
       "      <td>I20130625b2</td>\n",
       "      <td>dialectal</td>\n",
       "      <td>1.0</td>\n",
       "      <td>sja_e_vs_ja</td>\n",
       "    </tr>\n",
       "    <tr>\n",
       "      <th>1</th>\n",
       "      <td>анс1925</td>\n",
       "      <td>0</td>\n",
       "      <td>I20130625b2</td>\n",
       "      <td>dialectal</td>\n",
       "      <td>1.0</td>\n",
       "      <td>sja_e_vs_ja</td>\n",
       "    </tr>\n",
       "  </tbody>\n",
       "</table>\n",
       "</div>"
      ],
      "text/plain": [
       "  информант  year of birth         файл    е vs. я  pos          var\n",
       "0   анс1925              0  I20130625b2  dialectal  1.0  sja_e_vs_ja\n",
       "1   анс1925              0  I20130625b2  dialectal  1.0  sja_e_vs_ja"
      ]
     },
     "execution_count": 369,
     "metadata": {},
     "output_type": "execute_result"
    }
   ],
   "source": [
    "sja_clean_2.replace(['s', 's?'], 'standart', inplace=True)\n",
    "\n",
    "sja_clean_2.replace(['d?', 'd'], 'dialectal', inplace=True)\n",
    "\n",
    "\n",
    "sja_clean_2.head(2)"
   ]
  },
  {
   "cell_type": "code",
   "execution_count": null,
   "metadata": {},
   "outputs": [],
   "source": []
  },
  {
   "cell_type": "markdown",
   "metadata": {},
   "source": [
    "# STOP"
   ]
  },
  {
   "cell_type": "code",
   "execution_count": 346,
   "metadata": {},
   "outputs": [
    {
     "data": {
      "text/html": [
       "<div>\n",
       "<style scoped>\n",
       "    .dataframe tbody tr th:only-of-type {\n",
       "        vertical-align: middle;\n",
       "    }\n",
       "\n",
       "    .dataframe tbody tr th {\n",
       "        vertical-align: top;\n",
       "    }\n",
       "\n",
       "    .dataframe thead th {\n",
       "        text-align: right;\n",
       "    }\n",
       "</style>\n",
       "<table border=\"1\" class=\"dataframe\">\n",
       "  <thead>\n",
       "    <tr style=\"text-align: right;\">\n",
       "      <th></th>\n",
       "      <th>Subject</th>\n",
       "      <th>Birth.year</th>\n",
       "      <th>Record</th>\n",
       "      <th>Num</th>\n",
       "      <th>pos</th>\n",
       "      <th>var</th>\n",
       "    </tr>\n",
       "  </thead>\n",
       "  <tbody>\n",
       "    <tr>\n",
       "      <th>0</th>\n",
       "      <td>авм1922</td>\n",
       "      <td>1922</td>\n",
       "      <td>N20130624b2</td>\n",
       "      <td>standart</td>\n",
       "      <td>2.0</td>\n",
       "      <td>kto</td>\n",
       "    </tr>\n",
       "    <tr>\n",
       "      <th>1</th>\n",
       "      <td>авм1922</td>\n",
       "      <td>1922</td>\n",
       "      <td>N20130624b2</td>\n",
       "      <td>dialectal</td>\n",
       "      <td>2.0</td>\n",
       "      <td>kto</td>\n",
       "    </tr>\n",
       "  </tbody>\n",
       "</table>\n",
       "</div>"
      ],
      "text/plain": [
       "   Subject Birth.year       Record        Num  pos  var\n",
       "0  авм1922       1922  N20130624b2   standart  2.0  kto\n",
       "1  авм1922       1922  N20130624b2  dialectal  2.0  kto"
      ]
     },
     "execution_count": 346,
     "metadata": {},
     "output_type": "execute_result"
    }
   ],
   "source": [
    "kto_clean.head(2)"
   ]
  },
  {
   "cell_type": "code",
   "execution_count": 371,
   "metadata": {},
   "outputs": [
    {
     "data": {
      "text/html": [
       "<div>\n",
       "<style scoped>\n",
       "    .dataframe tbody tr th:only-of-type {\n",
       "        vertical-align: middle;\n",
       "    }\n",
       "\n",
       "    .dataframe tbody tr th {\n",
       "        vertical-align: top;\n",
       "    }\n",
       "\n",
       "    .dataframe thead th {\n",
       "        text-align: right;\n",
       "    }\n",
       "</style>\n",
       "<table border=\"1\" class=\"dataframe\">\n",
       "  <thead>\n",
       "    <tr style=\"text-align: right;\">\n",
       "      <th></th>\n",
       "      <th>информант</th>\n",
       "      <th>year of birth</th>\n",
       "      <th>файл</th>\n",
       "      <th>сV vs. сь</th>\n",
       "      <th>pos</th>\n",
       "      <th>var</th>\n",
       "    </tr>\n",
       "  </thead>\n",
       "  <tbody>\n",
       "    <tr>\n",
       "      <th>0</th>\n",
       "      <td>анс1925</td>\n",
       "      <td>0</td>\n",
       "      <td>I20130625b2</td>\n",
       "      <td>standart</td>\n",
       "      <td>1.0</td>\n",
       "      <td>sja_v_or</td>\n",
       "    </tr>\n",
       "    <tr>\n",
       "      <th>1</th>\n",
       "      <td>анс1925</td>\n",
       "      <td>0</td>\n",
       "      <td>I20130625b2</td>\n",
       "      <td>standart</td>\n",
       "      <td>1.0</td>\n",
       "      <td>sja_v_or</td>\n",
       "    </tr>\n",
       "    <tr>\n",
       "      <th>2</th>\n",
       "      <td>анс1925</td>\n",
       "      <td>0</td>\n",
       "      <td>I20130625b2</td>\n",
       "      <td>standart</td>\n",
       "      <td>1.0</td>\n",
       "      <td>sja_v_or</td>\n",
       "    </tr>\n",
       "    <tr>\n",
       "      <th>3</th>\n",
       "      <td>анс1925</td>\n",
       "      <td>0</td>\n",
       "      <td>I20130625b2</td>\n",
       "      <td>dialectal</td>\n",
       "      <td>1.0</td>\n",
       "      <td>sja_v_or</td>\n",
       "    </tr>\n",
       "  </tbody>\n",
       "</table>\n",
       "</div>"
      ],
      "text/plain": [
       "  информант  year of birth         файл  сV vs. сь  pos       var\n",
       "0   анс1925              0  I20130625b2   standart  1.0  sja_v_or\n",
       "1   анс1925              0  I20130625b2   standart  1.0  sja_v_or\n",
       "2   анс1925              0  I20130625b2   standart  1.0  sja_v_or\n",
       "3   анс1925              0  I20130625b2  dialectal  1.0  sja_v_or"
      ]
     },
     "execution_count": 371,
     "metadata": {},
     "output_type": "execute_result"
    }
   ],
   "source": [
    "sja_clean.insert(5, column='var', value='sja_v_or')\n",
    "\n",
    "sja_clean.head(4)"
   ]
  },
  {
   "cell_type": "code",
   "execution_count": 384,
   "metadata": {},
   "outputs": [
    {
     "data": {
      "text/html": [
       "<div>\n",
       "<style scoped>\n",
       "    .dataframe tbody tr th:only-of-type {\n",
       "        vertical-align: middle;\n",
       "    }\n",
       "\n",
       "    .dataframe tbody tr th {\n",
       "        vertical-align: top;\n",
       "    }\n",
       "\n",
       "    .dataframe thead th {\n",
       "        text-align: right;\n",
       "    }\n",
       "</style>\n",
       "<table border=\"1\" class=\"dataframe\">\n",
       "  <thead>\n",
       "    <tr style=\"text-align: right;\">\n",
       "      <th></th>\n",
       "      <th>Subject</th>\n",
       "      <th>Birth.year</th>\n",
       "      <th>Record</th>\n",
       "      <th>Num</th>\n",
       "      <th>pos</th>\n",
       "      <th>var</th>\n",
       "    </tr>\n",
       "  </thead>\n",
       "  <tbody>\n",
       "    <tr>\n",
       "      <th>0</th>\n",
       "      <td>анс1925</td>\n",
       "      <td>0</td>\n",
       "      <td>I20130625b2</td>\n",
       "      <td>standart</td>\n",
       "      <td>1.0</td>\n",
       "      <td>sja_v_or</td>\n",
       "    </tr>\n",
       "    <tr>\n",
       "      <th>1</th>\n",
       "      <td>анс1925</td>\n",
       "      <td>0</td>\n",
       "      <td>I20130625b2</td>\n",
       "      <td>standart</td>\n",
       "      <td>1.0</td>\n",
       "      <td>sja_v_or</td>\n",
       "    </tr>\n",
       "    <tr>\n",
       "      <th>2</th>\n",
       "      <td>анс1925</td>\n",
       "      <td>0</td>\n",
       "      <td>I20130625b2</td>\n",
       "      <td>standart</td>\n",
       "      <td>1.0</td>\n",
       "      <td>sja_v_or</td>\n",
       "    </tr>\n",
       "    <tr>\n",
       "      <th>3</th>\n",
       "      <td>анс1925</td>\n",
       "      <td>0</td>\n",
       "      <td>I20130625b2</td>\n",
       "      <td>dialectal</td>\n",
       "      <td>1.0</td>\n",
       "      <td>sja_v_or</td>\n",
       "    </tr>\n",
       "    <tr>\n",
       "      <th>4</th>\n",
       "      <td>анс1925</td>\n",
       "      <td>0</td>\n",
       "      <td>I20130625b2</td>\n",
       "      <td>dialectal</td>\n",
       "      <td>1.0</td>\n",
       "      <td>sja_v_or</td>\n",
       "    </tr>\n",
       "    <tr>\n",
       "      <th>5</th>\n",
       "      <td>анс1925</td>\n",
       "      <td>0</td>\n",
       "      <td>I20130625b2</td>\n",
       "      <td>dialectal</td>\n",
       "      <td>1.0</td>\n",
       "      <td>sja_v_or</td>\n",
       "    </tr>\n",
       "    <tr>\n",
       "      <th>6</th>\n",
       "      <td>анс1925</td>\n",
       "      <td>0</td>\n",
       "      <td>I20130625b2</td>\n",
       "      <td>dialectal</td>\n",
       "      <td>1.0</td>\n",
       "      <td>sja_v_or</td>\n",
       "    </tr>\n",
       "    <tr>\n",
       "      <th>7</th>\n",
       "      <td>анс1925</td>\n",
       "      <td>0</td>\n",
       "      <td>I20130625b2</td>\n",
       "      <td>standart</td>\n",
       "      <td>1.0</td>\n",
       "      <td>sja_v_or</td>\n",
       "    </tr>\n",
       "    <tr>\n",
       "      <th>8</th>\n",
       "      <td>анс1925</td>\n",
       "      <td>0</td>\n",
       "      <td>I20130625b2</td>\n",
       "      <td>standart</td>\n",
       "      <td>1.0</td>\n",
       "      <td>sja_v_or</td>\n",
       "    </tr>\n",
       "    <tr>\n",
       "      <th>9</th>\n",
       "      <td>анс1925</td>\n",
       "      <td>0</td>\n",
       "      <td>I20130625b2</td>\n",
       "      <td>dialectal</td>\n",
       "      <td>1.0</td>\n",
       "      <td>sja_v_or</td>\n",
       "    </tr>\n",
       "  </tbody>\n",
       "</table>\n",
       "</div>"
      ],
      "text/plain": [
       "   Subject  Birth.year       Record        Num  pos       var\n",
       "0  анс1925           0  I20130625b2   standart  1.0  sja_v_or\n",
       "1  анс1925           0  I20130625b2   standart  1.0  sja_v_or\n",
       "2  анс1925           0  I20130625b2   standart  1.0  sja_v_or\n",
       "3  анс1925           0  I20130625b2  dialectal  1.0  sja_v_or\n",
       "4  анс1925           0  I20130625b2  dialectal  1.0  sja_v_or\n",
       "5  анс1925           0  I20130625b2  dialectal  1.0  sja_v_or\n",
       "6  анс1925           0  I20130625b2  dialectal  1.0  sja_v_or\n",
       "7  анс1925           0  I20130625b2   standart  1.0  sja_v_or\n",
       "8  анс1925           0  I20130625b2   standart  1.0  sja_v_or\n",
       "9  анс1925           0  I20130625b2  dialectal  1.0  sja_v_or"
      ]
     },
     "execution_count": 384,
     "metadata": {},
     "output_type": "execute_result"
    }
   ],
   "source": [
    "sja_clean.head(10)"
   ]
  },
  {
   "cell_type": "code",
   "execution_count": 372,
   "metadata": {},
   "outputs": [],
   "source": [
    "\n",
    "\n",
    "sja_clean_2.columns = kto_clean.columns\n",
    "sja_clean.columns = kto_clean.columns\n",
    "adj_clean.columns = kto_clean.columns"
   ]
  },
  {
   "cell_type": "code",
   "execution_count": 400,
   "metadata": {},
   "outputs": [],
   "source": [
    "full_df = pd.concat([kto_clean.reset_index(), sja_clean.reset_index(), adj_clean.reset_index(), sja_clean_2.reset_index()], ignore_index=True, axis=0)"
   ]
  },
  {
   "cell_type": "code",
   "execution_count": 401,
   "metadata": {},
   "outputs": [],
   "source": [
    "full_df.replace('nondialectal', 'standart', inplace=True)"
   ]
  },
  {
   "cell_type": "code",
   "execution_count": 402,
   "metadata": {},
   "outputs": [],
   "source": [
    "full_df.replace('?', np.nan, inplace=True)"
   ]
  },
  {
   "cell_type": "code",
   "execution_count": 403,
   "metadata": {},
   "outputs": [],
   "source": [
    "full_df = full_df.dropna()"
   ]
  },
  {
   "cell_type": "code",
   "execution_count": 404,
   "metadata": {},
   "outputs": [],
   "source": [
    "full_df.to_csv('all_in_one.csv')"
   ]
  },
  {
   "cell_type": "code",
   "execution_count": 405,
   "metadata": {},
   "outputs": [
    {
     "data": {
      "text/plain": [
       "Counter({'adj': 3735, 'kto': 1278, 'sja_e_vs_ja': 2331, 'sja_v_or': 2456})"
      ]
     },
     "execution_count": 405,
     "metadata": {},
     "output_type": "execute_result"
    }
   ],
   "source": [
    "Counter(full_df['var'])"
   ]
  },
  {
   "cell_type": "code",
   "execution_count": null,
   "metadata": {},
   "outputs": [],
   "source": [
    "2400+2400+4000+1200"
   ]
  },
  {
   "cell_type": "code",
   "execution_count": null,
   "metadata": {},
   "outputs": [],
   "source": []
  }
 ],
 "metadata": {
  "kernelspec": {
   "display_name": "Python 3",
   "language": "python",
   "name": "python3"
  },
  "language_info": {
   "codemirror_mode": {
    "name": "ipython",
    "version": 3
   },
   "file_extension": ".py",
   "mimetype": "text/x-python",
   "name": "python",
   "nbconvert_exporter": "python",
   "pygments_lexer": "ipython3",
   "version": "3.5.1"
  }
 },
 "nbformat": 4,
 "nbformat_minor": 2
}
